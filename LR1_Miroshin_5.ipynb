{
 "cells": [
  {
   "metadata": {},
   "cell_type": "markdown",
   "source": [
    "Цель работы:\n",
    "\n",
    "Осуществить предварительную обработку данных csv-файла, выявить и устранить проблемы в этих данных.\n"
   ],
   "id": "2c15c24abf334b18"
  },
  {
   "metadata": {},
   "cell_type": "markdown",
   "source": [
    "# Загрузка набора данных\n",
    "## Описание предметной области\n",
    "Вариант №5\n",
    "<br>Набор данных visits.csv <br> Атрибуты:\n",
    "<br>User_Id — уникальный идентификатор пользователя\n",
    "<br>Region — страна пользователя\n",
    "<br>Device — устройство пользователя\n",
    "<br>Channel — идентификатор рекламного источника, из которого пришел пользователь\n",
    "<br>Session_Start — дата и время начала сессии\n",
    "<br>Session_End — дата и время окончания сессии"
   ],
   "id": "3d51f2b246544672"
  },
  {
   "metadata": {},
   "cell_type": "markdown",
   "source": [
    "---\n",
    "## 1. Чтение файла (набора данных)\n",
    "Импорт библиотек, чтение файла с помощью pandas"
   ],
   "id": "ccb22d90b2fcb56"
  },
  {
   "metadata": {
    "ExecuteTime": {
     "end_time": "2025-10-19T17:36:50.251018Z",
     "start_time": "2025-10-19T17:36:50.240182Z"
    }
   },
   "cell_type": "code",
   "source": [
    "import pandas as pd\n",
    "df = pd.read_csv(\"../data/visits.csv\", sep =';')"
   ],
   "id": "ce1564cffa12322b",
   "outputs": [],
   "execution_count": 74
  },
  {
   "metadata": {},
   "cell_type": "markdown",
   "source": [
    "---\n",
    "## 2. Обзор данных\n",
    " 2.1 Вывод первых 20 строк с помощью метода head"
   ],
   "id": "9e4e08a55ef172dc"
  },
  {
   "metadata": {
    "ExecuteTime": {
     "end_time": "2025-10-19T17:36:50.284752Z",
     "start_time": "2025-10-19T17:36:50.266111Z"
    }
   },
   "cell_type": "code",
   "source": "df.head(20)",
   "id": "42ed676e0d2b7498",
   "outputs": [
    {
     "data": {
      "text/plain": [
       "        User_Id         Region   Device       Channel     Session_Start  \\\n",
       "0   9,81449E+11  United States   iPhone       organic   01.05.2019 2:36   \n",
       "1   2,78966E+11  United States   iPhone       organic   01.05.2019 4:46   \n",
       "2   5,90706E+11  United States      Mac       organic  01.05.2019 14:09   \n",
       "3   3,26434E+11  United States  Android        TipTop   01.05.2019 0:29   \n",
       "4   3,49774E+11  United States      Mac       organic   01.05.2019 3:33   \n",
       "5   43958116050  United States  Android       organic   01.05.2019 9:03   \n",
       "6   1,85365E+11  United States   iPhone       organic   01.05.2019 9:37   \n",
       "7   1,00971E+11  United States      Mac        TipTop   01.05.2019 4:39   \n",
       "8   3,70456E+11  United States   iPhone       organic  01.05.2019 14:44   \n",
       "9   1,41838E+11  United States      Mac      FaceBoom   01.05.2019 6:20   \n",
       "10  9,24309E+11  United States   iPhone       organic  01.05.2019 20:03   \n",
       "11  7,74938E+11  United States   iPhone  MediaTornado  01.05.2019 14:01   \n",
       "12  2,44879E+11  United States   iPhone  MediaTornado   01.05.2019 1:59   \n",
       "13  1,57877E+11  United States      Mac       organic  01.05.2019 10:25   \n",
       "14  5,24629E+11  United States      Mac       organic  01.05.2019 17:06   \n",
       "15  1,36227E+11  United States       PC       organic  01.05.2019 19:34   \n",
       "16  6,84979E+11  United States   iPhone        TipTop   01.05.2019 1:51   \n",
       "17  9,05776E+11  United States   iPhone       organic  01.05.2019 14:26   \n",
       "18  15174034813  United States   iPhone      FaceBoom  01.05.2019 15:34   \n",
       "19  1,88246E+11  United States  Android      FaceBoom  01.05.2019 23:09   \n",
       "\n",
       "         SESSION_End  \n",
       "0    01.05.2019 2:45  \n",
       "1    01.05.2019 4:47  \n",
       "2   01.05.2019 15:32  \n",
       "3    01.05.2019 0:54  \n",
       "4    01.05.2019 3:57  \n",
       "5   01.05.2019 10:08  \n",
       "6   01.05.2019 10:00  \n",
       "7    01.05.2019 4:57  \n",
       "8   01.05.2019 15:41  \n",
       "9    01.05.2019 6:54  \n",
       "10  01.05.2019 20:19  \n",
       "11  01.05.2019 14:29  \n",
       "12   01.05.2019 2:21  \n",
       "13  01.05.2019 10:35  \n",
       "14  01.05.2019 18:05  \n",
       "15  01.05.2019 19:39  \n",
       "16   01.05.2019 2:12  \n",
       "17  01.05.2019 14:35  \n",
       "18  01.05.2019 15:56  \n",
       "19  01.05.2019 23:21  "
      ],
      "text/html": [
       "<div>\n",
       "<style scoped>\n",
       "    .dataframe tbody tr th:only-of-type {\n",
       "        vertical-align: middle;\n",
       "    }\n",
       "\n",
       "    .dataframe tbody tr th {\n",
       "        vertical-align: top;\n",
       "    }\n",
       "\n",
       "    .dataframe thead th {\n",
       "        text-align: right;\n",
       "    }\n",
       "</style>\n",
       "<table border=\"1\" class=\"dataframe\">\n",
       "  <thead>\n",
       "    <tr style=\"text-align: right;\">\n",
       "      <th></th>\n",
       "      <th>User_Id</th>\n",
       "      <th>Region</th>\n",
       "      <th>Device</th>\n",
       "      <th>Channel</th>\n",
       "      <th>Session_Start</th>\n",
       "      <th>SESSION_End</th>\n",
       "    </tr>\n",
       "  </thead>\n",
       "  <tbody>\n",
       "    <tr>\n",
       "      <th>0</th>\n",
       "      <td>9,81449E+11</td>\n",
       "      <td>United States</td>\n",
       "      <td>iPhone</td>\n",
       "      <td>organic</td>\n",
       "      <td>01.05.2019 2:36</td>\n",
       "      <td>01.05.2019 2:45</td>\n",
       "    </tr>\n",
       "    <tr>\n",
       "      <th>1</th>\n",
       "      <td>2,78966E+11</td>\n",
       "      <td>United States</td>\n",
       "      <td>iPhone</td>\n",
       "      <td>organic</td>\n",
       "      <td>01.05.2019 4:46</td>\n",
       "      <td>01.05.2019 4:47</td>\n",
       "    </tr>\n",
       "    <tr>\n",
       "      <th>2</th>\n",
       "      <td>5,90706E+11</td>\n",
       "      <td>United States</td>\n",
       "      <td>Mac</td>\n",
       "      <td>organic</td>\n",
       "      <td>01.05.2019 14:09</td>\n",
       "      <td>01.05.2019 15:32</td>\n",
       "    </tr>\n",
       "    <tr>\n",
       "      <th>3</th>\n",
       "      <td>3,26434E+11</td>\n",
       "      <td>United States</td>\n",
       "      <td>Android</td>\n",
       "      <td>TipTop</td>\n",
       "      <td>01.05.2019 0:29</td>\n",
       "      <td>01.05.2019 0:54</td>\n",
       "    </tr>\n",
       "    <tr>\n",
       "      <th>4</th>\n",
       "      <td>3,49774E+11</td>\n",
       "      <td>United States</td>\n",
       "      <td>Mac</td>\n",
       "      <td>organic</td>\n",
       "      <td>01.05.2019 3:33</td>\n",
       "      <td>01.05.2019 3:57</td>\n",
       "    </tr>\n",
       "    <tr>\n",
       "      <th>5</th>\n",
       "      <td>43958116050</td>\n",
       "      <td>United States</td>\n",
       "      <td>Android</td>\n",
       "      <td>organic</td>\n",
       "      <td>01.05.2019 9:03</td>\n",
       "      <td>01.05.2019 10:08</td>\n",
       "    </tr>\n",
       "    <tr>\n",
       "      <th>6</th>\n",
       "      <td>1,85365E+11</td>\n",
       "      <td>United States</td>\n",
       "      <td>iPhone</td>\n",
       "      <td>organic</td>\n",
       "      <td>01.05.2019 9:37</td>\n",
       "      <td>01.05.2019 10:00</td>\n",
       "    </tr>\n",
       "    <tr>\n",
       "      <th>7</th>\n",
       "      <td>1,00971E+11</td>\n",
       "      <td>United States</td>\n",
       "      <td>Mac</td>\n",
       "      <td>TipTop</td>\n",
       "      <td>01.05.2019 4:39</td>\n",
       "      <td>01.05.2019 4:57</td>\n",
       "    </tr>\n",
       "    <tr>\n",
       "      <th>8</th>\n",
       "      <td>3,70456E+11</td>\n",
       "      <td>United States</td>\n",
       "      <td>iPhone</td>\n",
       "      <td>organic</td>\n",
       "      <td>01.05.2019 14:44</td>\n",
       "      <td>01.05.2019 15:41</td>\n",
       "    </tr>\n",
       "    <tr>\n",
       "      <th>9</th>\n",
       "      <td>1,41838E+11</td>\n",
       "      <td>United States</td>\n",
       "      <td>Mac</td>\n",
       "      <td>FaceBoom</td>\n",
       "      <td>01.05.2019 6:20</td>\n",
       "      <td>01.05.2019 6:54</td>\n",
       "    </tr>\n",
       "    <tr>\n",
       "      <th>10</th>\n",
       "      <td>9,24309E+11</td>\n",
       "      <td>United States</td>\n",
       "      <td>iPhone</td>\n",
       "      <td>organic</td>\n",
       "      <td>01.05.2019 20:03</td>\n",
       "      <td>01.05.2019 20:19</td>\n",
       "    </tr>\n",
       "    <tr>\n",
       "      <th>11</th>\n",
       "      <td>7,74938E+11</td>\n",
       "      <td>United States</td>\n",
       "      <td>iPhone</td>\n",
       "      <td>MediaTornado</td>\n",
       "      <td>01.05.2019 14:01</td>\n",
       "      <td>01.05.2019 14:29</td>\n",
       "    </tr>\n",
       "    <tr>\n",
       "      <th>12</th>\n",
       "      <td>2,44879E+11</td>\n",
       "      <td>United States</td>\n",
       "      <td>iPhone</td>\n",
       "      <td>MediaTornado</td>\n",
       "      <td>01.05.2019 1:59</td>\n",
       "      <td>01.05.2019 2:21</td>\n",
       "    </tr>\n",
       "    <tr>\n",
       "      <th>13</th>\n",
       "      <td>1,57877E+11</td>\n",
       "      <td>United States</td>\n",
       "      <td>Mac</td>\n",
       "      <td>organic</td>\n",
       "      <td>01.05.2019 10:25</td>\n",
       "      <td>01.05.2019 10:35</td>\n",
       "    </tr>\n",
       "    <tr>\n",
       "      <th>14</th>\n",
       "      <td>5,24629E+11</td>\n",
       "      <td>United States</td>\n",
       "      <td>Mac</td>\n",
       "      <td>organic</td>\n",
       "      <td>01.05.2019 17:06</td>\n",
       "      <td>01.05.2019 18:05</td>\n",
       "    </tr>\n",
       "    <tr>\n",
       "      <th>15</th>\n",
       "      <td>1,36227E+11</td>\n",
       "      <td>United States</td>\n",
       "      <td>PC</td>\n",
       "      <td>organic</td>\n",
       "      <td>01.05.2019 19:34</td>\n",
       "      <td>01.05.2019 19:39</td>\n",
       "    </tr>\n",
       "    <tr>\n",
       "      <th>16</th>\n",
       "      <td>6,84979E+11</td>\n",
       "      <td>United States</td>\n",
       "      <td>iPhone</td>\n",
       "      <td>TipTop</td>\n",
       "      <td>01.05.2019 1:51</td>\n",
       "      <td>01.05.2019 2:12</td>\n",
       "    </tr>\n",
       "    <tr>\n",
       "      <th>17</th>\n",
       "      <td>9,05776E+11</td>\n",
       "      <td>United States</td>\n",
       "      <td>iPhone</td>\n",
       "      <td>organic</td>\n",
       "      <td>01.05.2019 14:26</td>\n",
       "      <td>01.05.2019 14:35</td>\n",
       "    </tr>\n",
       "    <tr>\n",
       "      <th>18</th>\n",
       "      <td>15174034813</td>\n",
       "      <td>United States</td>\n",
       "      <td>iPhone</td>\n",
       "      <td>FaceBoom</td>\n",
       "      <td>01.05.2019 15:34</td>\n",
       "      <td>01.05.2019 15:56</td>\n",
       "    </tr>\n",
       "    <tr>\n",
       "      <th>19</th>\n",
       "      <td>1,88246E+11</td>\n",
       "      <td>United States</td>\n",
       "      <td>Android</td>\n",
       "      <td>FaceBoom</td>\n",
       "      <td>01.05.2019 23:09</td>\n",
       "      <td>01.05.2019 23:21</td>\n",
       "    </tr>\n",
       "  </tbody>\n",
       "</table>\n",
       "</div>"
      ]
     },
     "execution_count": 75,
     "metadata": {},
     "output_type": "execute_result"
    }
   ],
   "execution_count": 75
  },
  {
   "metadata": {},
   "cell_type": "markdown",
   "source": [
    "---\n",
    " 2.2 Оценка данных с помощью метода info"
   ],
   "id": "dd33189e015c64f4"
  },
  {
   "metadata": {
    "ExecuteTime": {
     "end_time": "2025-10-19T17:36:50.343238Z",
     "start_time": "2025-10-19T17:36:50.331373Z"
    }
   },
   "cell_type": "code",
   "source": "df.info()",
   "id": "29fe270073489c37",
   "outputs": [
    {
     "name": "stdout",
     "output_type": "stream",
     "text": [
      "<class 'pandas.core.frame.DataFrame'>\n",
      "RangeIndex: 957 entries, 0 to 956\n",
      "Data columns (total 6 columns):\n",
      " #   Column         Non-Null Count  Dtype \n",
      "---  ------         --------------  ----- \n",
      " 0   User_Id        957 non-null    object\n",
      " 1   Region         956 non-null    object\n",
      " 2   Device         955 non-null    object\n",
      " 3   Channel        957 non-null    object\n",
      " 4   Session_Start  955 non-null    object\n",
      " 5   SESSION_End    955 non-null    object\n",
      "dtypes: object(6)\n",
      "memory usage: 45.0+ KB\n"
     ]
    }
   ],
   "execution_count": 76
  },
  {
   "metadata": {},
   "cell_type": "markdown",
   "source": [
    "---\n",
    "2.3 Оценка данных с помощью метода describe."
   ],
   "id": "aef9c7a5cf130ab3"
  },
  {
   "metadata": {
    "ExecuteTime": {
     "end_time": "2025-10-19T17:36:50.422907Z",
     "start_time": "2025-10-19T17:36:50.392423Z"
    }
   },
   "cell_type": "code",
   "source": "df.describe()",
   "id": "67733f6fe86bc7f3",
   "outputs": [
    {
     "data": {
      "text/plain": [
       "            User_Id         Region  Device  Channel     Session_Start  \\\n",
       "count           957            956     955      957               955   \n",
       "unique          865              2       6        4               820   \n",
       "top     1,79085E+11  United States  iPhone  organic  02.05.2019 20:16   \n",
       "freq              4            955     421      612                 4   \n",
       "\n",
       "             SESSION_End  \n",
       "count                955  \n",
       "unique               836  \n",
       "top     02.05.2019 22:48  \n",
       "freq                   3  "
      ],
      "text/html": [
       "<div>\n",
       "<style scoped>\n",
       "    .dataframe tbody tr th:only-of-type {\n",
       "        vertical-align: middle;\n",
       "    }\n",
       "\n",
       "    .dataframe tbody tr th {\n",
       "        vertical-align: top;\n",
       "    }\n",
       "\n",
       "    .dataframe thead th {\n",
       "        text-align: right;\n",
       "    }\n",
       "</style>\n",
       "<table border=\"1\" class=\"dataframe\">\n",
       "  <thead>\n",
       "    <tr style=\"text-align: right;\">\n",
       "      <th></th>\n",
       "      <th>User_Id</th>\n",
       "      <th>Region</th>\n",
       "      <th>Device</th>\n",
       "      <th>Channel</th>\n",
       "      <th>Session_Start</th>\n",
       "      <th>SESSION_End</th>\n",
       "    </tr>\n",
       "  </thead>\n",
       "  <tbody>\n",
       "    <tr>\n",
       "      <th>count</th>\n",
       "      <td>957</td>\n",
       "      <td>956</td>\n",
       "      <td>955</td>\n",
       "      <td>957</td>\n",
       "      <td>955</td>\n",
       "      <td>955</td>\n",
       "    </tr>\n",
       "    <tr>\n",
       "      <th>unique</th>\n",
       "      <td>865</td>\n",
       "      <td>2</td>\n",
       "      <td>6</td>\n",
       "      <td>4</td>\n",
       "      <td>820</td>\n",
       "      <td>836</td>\n",
       "    </tr>\n",
       "    <tr>\n",
       "      <th>top</th>\n",
       "      <td>1,79085E+11</td>\n",
       "      <td>United States</td>\n",
       "      <td>iPhone</td>\n",
       "      <td>organic</td>\n",
       "      <td>02.05.2019 20:16</td>\n",
       "      <td>02.05.2019 22:48</td>\n",
       "    </tr>\n",
       "    <tr>\n",
       "      <th>freq</th>\n",
       "      <td>4</td>\n",
       "      <td>955</td>\n",
       "      <td>421</td>\n",
       "      <td>612</td>\n",
       "      <td>4</td>\n",
       "      <td>3</td>\n",
       "    </tr>\n",
       "  </tbody>\n",
       "</table>\n",
       "</div>"
      ]
     },
     "execution_count": 77,
     "metadata": {},
     "output_type": "execute_result"
    }
   ],
   "execution_count": 77
  },
  {
   "metadata": {},
   "cell_type": "markdown",
   "source": [
    "---\n",
    "Была произведена оценка данных методами describe и info. В датасете 957 строк и 6 столбцов, тип всех столбцов строковый, пропуски данных в столбцах Region(1), Device(2), Session_Start(2), Session_End(2).\n",
    "***"
   ],
   "id": "cc2486e4cf9d97c3"
  },
  {
   "metadata": {},
   "cell_type": "markdown",
   "source": [
    "\n",
    "2.4 Оценка названий столбцов"
   ],
   "id": "b62bb87f063f36d6"
  },
  {
   "metadata": {
    "ExecuteTime": {
     "end_time": "2025-10-19T17:36:50.461358Z",
     "start_time": "2025-10-19T17:36:50.454587Z"
    }
   },
   "cell_type": "code",
   "source": "df.columns",
   "id": "33d96a717786ef71",
   "outputs": [
    {
     "data": {
      "text/plain": [
       "Index(['User_Id', 'Region', 'Device', 'Channel', 'Session_Start',\n",
       "       'SESSION_End'],\n",
       "      dtype='object')"
      ]
     },
     "execution_count": 78,
     "metadata": {},
     "output_type": "execute_result"
    }
   ],
   "execution_count": 78
  },
  {
   "metadata": {},
   "cell_type": "markdown",
   "source": [
    "2.5 Анализ и коррекция названий столбцов\n",
    "На экран были выведены названия столбцов, ошибка есть только в название последнего столбца SESSION_End, слово целиком написано в верхнем регистре, для удобства приведем все к единому виду."
   ],
   "id": "3482af9074ccc369"
  },
  {
   "metadata": {
    "ExecuteTime": {
     "end_time": "2025-10-19T17:36:50.523475Z",
     "start_time": "2025-10-19T17:36:50.517574Z"
    }
   },
   "cell_type": "code",
   "source": [
    "df.columns = df.columns.str.lower()\n",
    "df.columns"
   ],
   "id": "155902ebffa6025f",
   "outputs": [
    {
     "data": {
      "text/plain": [
       "Index(['user_id', 'region', 'device', 'channel', 'session_start',\n",
       "       'session_end'],\n",
       "      dtype='object')"
      ]
     },
     "execution_count": 79,
     "metadata": {},
     "output_type": "execute_result"
    }
   ],
   "execution_count": 79
  },
  {
   "metadata": {},
   "cell_type": "markdown",
   "source": [
    "---\n",
    "### 3. Проверка пропусков"
   ],
   "id": "a9eff95b69ea6037"
  },
  {
   "metadata": {
    "ExecuteTime": {
     "end_time": "2025-10-19T17:36:50.611586Z",
     "start_time": "2025-10-19T17:36:50.573754Z"
    }
   },
   "cell_type": "code",
   "source": "df.isna().sum()",
   "id": "59b763b13ec17481",
   "outputs": [
    {
     "data": {
      "text/plain": [
       "user_id          0\n",
       "region           1\n",
       "device           2\n",
       "channel          0\n",
       "session_start    2\n",
       "session_end      2\n",
       "dtype: int64"
      ]
     },
     "execution_count": 80,
     "metadata": {},
     "output_type": "execute_result"
    }
   ],
   "execution_count": 80
  },
  {
   "metadata": {
    "ExecuteTime": {
     "end_time": "2025-10-19T17:36:50.666717Z",
     "start_time": "2025-10-19T17:36:50.658336Z"
    }
   },
   "cell_type": "code",
   "source": [
    "df['region'] = df['region'].fillna(\"United States\")\n",
    "df['device'] = df['device'].fillna(\"iPhone\")\n",
    "df['session_start'] = df['session_start'].fillna(\"01.05.2019 2:36\")\n",
    "df['session_end'] = df['session_end'].fillna(\"01.05.2019 2:45\")"
   ],
   "id": "9be57362855587f4",
   "outputs": [],
   "execution_count": 81
  },
  {
   "metadata": {
    "ExecuteTime": {
     "end_time": "2025-10-19T17:36:50.691412Z",
     "start_time": "2025-10-19T17:36:50.682886Z"
    }
   },
   "cell_type": "code",
   "source": "df.isna().sum()",
   "id": "2e8ce0f84823f8e8",
   "outputs": [
    {
     "data": {
      "text/plain": [
       "user_id          0\n",
       "region           0\n",
       "device           0\n",
       "channel          0\n",
       "session_start    0\n",
       "session_end      0\n",
       "dtype: int64"
      ]
     },
     "execution_count": 82,
     "metadata": {},
     "output_type": "execute_result"
    }
   ],
   "execution_count": 82
  },
  {
   "metadata": {},
   "cell_type": "markdown",
   "source": [
    "---\n",
    "Был выбран способ заполнения пропущенных значений значением по умолчанию, так как удаление пустых строк может привести к ошибкам в дальнейшей работе.\n",
    "***"
   ],
   "id": "88119b6b73199cdf"
  },
  {
   "metadata": {},
   "cell_type": "markdown",
   "source": [
    "### 4. Проверка дубликатов\n",
    "4.1 Проверка явных дубликатов"
   ],
   "id": "dedfe1fa20a6779f"
  },
  {
   "metadata": {
    "ExecuteTime": {
     "end_time": "2025-10-19T17:36:50.739828Z",
     "start_time": "2025-10-19T17:36:50.715105Z"
    }
   },
   "cell_type": "code",
   "source": "df[df.duplicated()]",
   "id": "d5828d91f25b69b6",
   "outputs": [
    {
     "data": {
      "text/plain": [
       "         user_id         region device  channel    session_start  \\\n",
       "480  1,79085E+11  United States    Mac  organic  01.05.2019 7:27   \n",
       "481  1,79085E+11  United States    Mac  organic  01.05.2019 7:27   \n",
       "\n",
       "         session_end  \n",
       "480  01.05.2019 7:49  \n",
       "481  01.05.2019 7:49  "
      ],
      "text/html": [
       "<div>\n",
       "<style scoped>\n",
       "    .dataframe tbody tr th:only-of-type {\n",
       "        vertical-align: middle;\n",
       "    }\n",
       "\n",
       "    .dataframe tbody tr th {\n",
       "        vertical-align: top;\n",
       "    }\n",
       "\n",
       "    .dataframe thead th {\n",
       "        text-align: right;\n",
       "    }\n",
       "</style>\n",
       "<table border=\"1\" class=\"dataframe\">\n",
       "  <thead>\n",
       "    <tr style=\"text-align: right;\">\n",
       "      <th></th>\n",
       "      <th>user_id</th>\n",
       "      <th>region</th>\n",
       "      <th>device</th>\n",
       "      <th>channel</th>\n",
       "      <th>session_start</th>\n",
       "      <th>session_end</th>\n",
       "    </tr>\n",
       "  </thead>\n",
       "  <tbody>\n",
       "    <tr>\n",
       "      <th>480</th>\n",
       "      <td>1,79085E+11</td>\n",
       "      <td>United States</td>\n",
       "      <td>Mac</td>\n",
       "      <td>organic</td>\n",
       "      <td>01.05.2019 7:27</td>\n",
       "      <td>01.05.2019 7:49</td>\n",
       "    </tr>\n",
       "    <tr>\n",
       "      <th>481</th>\n",
       "      <td>1,79085E+11</td>\n",
       "      <td>United States</td>\n",
       "      <td>Mac</td>\n",
       "      <td>organic</td>\n",
       "      <td>01.05.2019 7:27</td>\n",
       "      <td>01.05.2019 7:49</td>\n",
       "    </tr>\n",
       "  </tbody>\n",
       "</table>\n",
       "</div>"
      ]
     },
     "execution_count": 83,
     "metadata": {},
     "output_type": "execute_result"
    }
   ],
   "execution_count": 83
  },
  {
   "metadata": {},
   "cell_type": "markdown",
   "source": [
    "---\n",
    "Команда `df.duplicated()` проверяет, есть ли дубликаты строк в таблице. Возвращает колонку из True и False\n",
    "***"
   ],
   "id": "996738673bfe1828"
  },
  {
   "metadata": {
    "ExecuteTime": {
     "end_time": "2025-10-19T17:36:50.784490Z",
     "start_time": "2025-10-19T17:36:50.767551Z"
    }
   },
   "cell_type": "code",
   "source": [
    "df = df.drop_duplicates().reset_index(drop = True)\n",
    "print(df.duplicated().sum())"
   ],
   "id": "d4666a0cce5c3249",
   "outputs": [
    {
     "name": "stdout",
     "output_type": "stream",
     "text": [
      "0\n"
     ]
    }
   ],
   "execution_count": 84
  },
  {
   "metadata": {},
   "cell_type": "markdown",
   "source": [
    "---\n",
    "Команда  `df = df.drop_duplicates().reset_index(drop = True)` удаляет дубликаты и обновляет индексы строк\n",
    "***"
   ],
   "id": "cee0a32c4143ada"
  },
  {
   "metadata": {},
   "cell_type": "markdown",
   "source": "4.2 Проверка неявных дубликатов",
   "id": "7abab07f112a7927"
  },
  {
   "metadata": {
    "ExecuteTime": {
     "end_time": "2025-10-19T17:36:50.814023Z",
     "start_time": "2025-10-19T17:36:50.808046Z"
    }
   },
   "cell_type": "code",
   "source": [
    "unique_c = ['region', 'device', 'channel']\n",
    "for i in unique_c:\n",
    "  print(i, df[i].unique())"
   ],
   "id": "42154793e29231ea",
   "outputs": [
    {
     "name": "stdout",
     "output_type": "stream",
     "text": [
      "region ['United States' 'USA']\n",
      "device ['iPhone' 'Mac' 'Android' 'PC' 'MAC' 'IPHONE']\n",
      "channel ['organic' 'TipTop' 'FaceBoom' 'MediaTornado']\n"
     ]
    }
   ],
   "execution_count": 85
  },
  {
   "metadata": {},
   "cell_type": "markdown",
   "source": [
    "Обнаружены неявные дубликаты: <br>\n",
    " `region` - United States : USA; <br>\n",
    "` device` - 'IPHONE' : 'Iphone'; 'MAC' : 'Mac'.\n",
    "Дубликаты требуют устранения для дальнейшей обработки данных"
   ],
   "id": "78183d0d1c7f6a95"
  },
  {
   "metadata": {
    "ExecuteTime": {
     "end_time": "2025-10-19T17:36:50.860325Z",
     "start_time": "2025-10-19T17:36:50.850725Z"
    }
   },
   "cell_type": "code",
   "source": [
    "df['region'] = df['region'].replace('USA', 'United States')\n",
    "df['device'] = df['device'].replace('MAC', 'Mac')\n",
    "df['device'] = df['device'].replace('IPHONE', 'iPhone')\n",
    "for i in unique_c:\n",
    "  print(i, df[i].unique())"
   ],
   "id": "a24c41d8efdd5bbc",
   "outputs": [
    {
     "name": "stdout",
     "output_type": "stream",
     "text": [
      "region ['United States']\n",
      "device ['iPhone' 'Mac' 'Android' 'PC']\n",
      "channel ['organic' 'TipTop' 'FaceBoom' 'MediaTornado']\n"
     ]
    }
   ],
   "execution_count": 86
  },
  {
   "metadata": {},
   "cell_type": "markdown",
   "source": [
    "С помощью замены данные приведены к единному виду\n",
    "***"
   ],
   "id": "bc540dc9bd32f0cb"
  },
  {
   "metadata": {},
   "cell_type": "markdown",
   "source": "### 5. Проверка типов данных",
   "id": "55db05ecd40badb2"
  },
  {
   "metadata": {
    "ExecuteTime": {
     "end_time": "2025-10-19T17:36:50.894018Z",
     "start_time": "2025-10-19T17:36:50.887242Z"
    }
   },
   "cell_type": "code",
   "source": "df.dtypes",
   "id": "b926f97fbb7d48da",
   "outputs": [
    {
     "data": {
      "text/plain": [
       "user_id          object\n",
       "region           object\n",
       "device           object\n",
       "channel          object\n",
       "session_start    object\n",
       "session_end      object\n",
       "dtype: object"
      ]
     },
     "execution_count": 87,
     "metadata": {},
     "output_type": "execute_result"
    }
   ],
   "execution_count": 87
  },
  {
   "metadata": {},
   "cell_type": "markdown",
   "source": [
    "Проверка показала, что pandas присвоил всем данных тип object, что неправильно, это нужно исправить: <br>\n",
    "`region`, `device`, `channel`  - переводим в category, так как число записей ограничено; <br>\n",
    "`session_start и session_end` - переводим в datetime (тип данных для времени)."
   ],
   "id": "2b6e3de04e15bc5e"
  },
  {
   "metadata": {
    "ExecuteTime": {
     "end_time": "2025-10-19T17:36:50.972923Z",
     "start_time": "2025-10-19T17:36:50.950396Z"
    }
   },
   "cell_type": "code",
   "source": [
    "df['region'] = df['region'].astype('category')\n",
    "df['device'] = df['device'].astype('category')\n",
    "df['channel'] = df['channel'].astype('category')\n",
    "\n",
    "df['session_start'] = pd.to_datetime(df['session_start'], format='%d.%m.%Y %H:%M')\n",
    "df['session_end'] = pd.to_datetime(df['session_end'], format='%d.%m.%Y %H:%M')\n",
    "\n",
    "print(df.dtypes)"
   ],
   "id": "f430975da54c5690",
   "outputs": [
    {
     "name": "stdout",
     "output_type": "stream",
     "text": [
      "user_id                  object\n",
      "region                 category\n",
      "device                 category\n",
      "channel                category\n",
      "session_start    datetime64[ns]\n",
      "session_end      datetime64[ns]\n",
      "dtype: object\n"
     ]
    }
   ],
   "execution_count": 88
  },
  {
   "metadata": {},
   "cell_type": "markdown",
   "source": [
    "### 6. Группировка данных\n",
    "#### Задание 1\n",
    "Группировка - device и количество рекламных источников каждого типа (channel)"
   ],
   "id": "a2fd7ca20c2e4a52"
  },
  {
   "metadata": {
    "ExecuteTime": {
     "end_time": "2025-10-19T17:36:51.019170Z",
     "start_time": "2025-10-19T17:36:51.007829Z"
    }
   },
   "cell_type": "code",
   "source": "print(df.groupby(['device', 'channel'])['user_id'].count())",
   "id": "9def9fbdd2942e49",
   "outputs": [
    {
     "name": "stdout",
     "output_type": "stream",
     "text": [
      "device   channel     \n",
      "Android  FaceBoom         33\n",
      "         MediaTornado     11\n",
      "         TipTop           26\n",
      "         organic         115\n",
      "Mac      FaceBoom         36\n",
      "         MediaTornado     10\n",
      "         TipTop           24\n",
      "         organic         172\n",
      "PC       FaceBoom         15\n",
      "         MediaTornado      2\n",
      "         TipTop           14\n",
      "         organic          72\n",
      "iPhone   FaceBoom         65\n",
      "         MediaTornado     30\n",
      "         TipTop           79\n",
      "         organic         251\n",
      "Name: user_id, dtype: int64\n"
     ]
    },
    {
     "name": "stderr",
     "output_type": "stream",
     "text": [
      "C:\\Users\\miros\\AppData\\Local\\Temp\\ipykernel_12740\\1587863489.py:1: FutureWarning: The default of observed=False is deprecated and will be changed to True in a future version of pandas. Pass observed=False to retain current behavior or observed=True to adopt the future default and silence this warning.\n",
      "  print(df.groupby(['device', 'channel'])['user_id'].count())\n"
     ]
    }
   ],
   "execution_count": 89
  },
  {
   "metadata": {},
   "cell_type": "markdown",
   "source": [
    "\n",
    "Результаты группировки данных видно, что в изначальном датасете основной источник траффика органический, Iphone доминирует среди устройств, рекламные каналы показывают разную эффективность, аудитория Android меньше Iphone, мобильные устройства используются чаще портативных\n",
    "***"
   ],
   "id": "dabd77015a147796"
  },
  {
   "metadata": {},
   "cell_type": "markdown",
   "source": "#### Задание 2",
   "id": "2b8a236f3c1d33be"
  },
  {
   "metadata": {},
   "cell_type": "markdown",
   "source": "Группировка - region и количество устройств (device ). Создать датафрейм. Переименовать столбец с количеством в “сountˮ. Отсортировать по убыванию столбца “countˮ.",
   "id": "eb5b3a13c5638d0f"
  },
  {
   "metadata": {
    "ExecuteTime": {
     "end_time": "2025-10-19T17:36:51.058433Z",
     "start_time": "2025-10-19T17:36:51.047379Z"
    }
   },
   "cell_type": "code",
   "source": [
    "counts = df.groupby(['region', 'device'], observed = True).size()\n",
    "df_group = counts.reset_index()\n",
    "df_group.columns = ['region', 'device', 'count']\n",
    "df_group = df_group.sort_values(by='count', ascending=False)\n",
    "print(df_group)"
   ],
   "id": "81e712c2fce799a7",
   "outputs": [
    {
     "name": "stdout",
     "output_type": "stream",
     "text": [
      "          region   device  count\n",
      "3  United States   iPhone    425\n",
      "1  United States      Mac    242\n",
      "0  United States  Android    185\n",
      "2  United States       PC    103\n"
     ]
    }
   ],
   "execution_count": 90
  },
  {
   "metadata": {},
   "cell_type": "markdown",
   "source": [
    "\n",
    "Вся аудитория из США, самое большое количество пользователей за продуктами Apple (Iphone - 425, Mac - 242)\n",
    "***"
   ],
   "id": "dc0de2cd2007d570"
  },
  {
   "metadata": {},
   "cell_type": "markdown",
   "source": "#### Задание 3",
   "id": "62d6580482b0c185"
  },
  {
   "metadata": {},
   "cell_type": "markdown",
   "source": [
    "Сводная таблица (pivot_table) – уникальное количество пользователей\n",
    "для каждого устройства (device). Отсортировать по убыванию количества"
   ],
   "id": "f63a856dea57453a"
  },
  {
   "metadata": {
    "ExecuteTime": {
     "end_time": "2025-10-19T17:36:51.098847Z",
     "start_time": "2025-10-19T17:36:51.087981Z"
    }
   },
   "cell_type": "code",
   "source": [
    "pivot_users = df.pivot_table(\n",
    "    index='device',\n",
    "    values='user_id',\n",
    "    aggfunc='nunique',\n",
    "    observed=True\n",
    ").sort_values(by='user_id', ascending=False)\n",
    "print(pivot_users)"
   ],
   "id": "efbdcc2b0b2a99e6",
   "outputs": [
    {
     "name": "stdout",
     "output_type": "stream",
     "text": [
      "         user_id\n",
      "device          \n",
      "iPhone       387\n",
      "Mac          223\n",
      "Android      169\n",
      "PC            90\n"
     ]
    }
   ],
   "execution_count": 91
  },
  {
   "metadata": {},
   "cell_type": "markdown",
   "source": [
    "\n",
    "\n",
    "Продукция Apple (Iphone и Mac) - доминирует, продукт нацелен именно на эту систему, нужно улучшать качество продукта для Android и PC и поднимать популярность для пользователей этих устройств.\n",
    "***"
   ],
   "id": "8a8e373ab7e17296"
  },
  {
   "metadata": {},
   "cell_type": "markdown",
   "source": [
    "#### Задание 4\n",
    "\n",
    "Сводная таблица (pivot_table) - уникальное количество пользователей для каждого устройства (device) - столбцы и региона- строки. Отсортировать по возрастанию столбца region."
   ],
   "id": "a8cd88bc614812fc"
  },
  {
   "metadata": {
    "ExecuteTime": {
     "end_time": "2025-10-19T17:36:51.161876Z",
     "start_time": "2025-10-19T17:36:51.141505Z"
    }
   },
   "cell_type": "code",
   "source": [
    "pivot_users = df.pivot_table(\n",
    "    index=['region','channel'],\n",
    "    columns='device',\n",
    "    values='user_id',\n",
    "    aggfunc='nunique',\n",
    "    observed=True\n",
    ").sort_index(ascending=True)\n",
    "print(pivot_users)"
   ],
   "id": "28d15a52ec10c53e",
   "outputs": [
    {
     "name": "stdout",
     "output_type": "stream",
     "text": [
      "device                      Android  Mac  PC  iPhone\n",
      "region        channel                               \n",
      "United States FaceBoom           32   32  13      63\n",
      "              MediaTornado       11    9   2      25\n",
      "              TipTop             19   22  10      69\n",
      "              organic           108  160  65     232\n"
     ]
    }
   ],
   "execution_count": 92
  },
  {
   "metadata": {},
   "cell_type": "markdown",
   "source": [
    "Из сводной таблицы хорошо видно, что вся аудитория это пользователи из США, явное лидерство у продукции Apple (Iphone и Mac), а платформы Android и PC сильно уступают, что указывает на возможный рост в этой сфере\n",
    "***"
   ],
   "id": "44b6401c66d6ddb"
  },
  {
   "metadata": {},
   "cell_type": "markdown",
   "source": "### Вывод",
   "id": "e6e2f4712a47681e"
  },
  {
   "metadata": {},
   "cell_type": "markdown",
   "source": [
    "В ходе работы был проведён анализ набора данных visits.csv, содержащего информацию о 957 пользовательских сессиях на цифровой платформе.\n",
    "**На этапе предобработки были выполнены следующие шаги:**\n",
    "* Устранены пропуски в столбцах region, device, session_start, session_end\n",
    "* Преобразован тип данных для столбцов region, device, channel, session_start, session_end\n",
    "\n",
    "**Выводы из анализа данных с помощью группировок и сводных таблиц:**\n",
    "* Все пользователи из United States\n",
    "* Iphone является лидером среди устройтсв, за ним идет Mac, затем Android и PC\n",
    "* Наибольшее количество уникальных пользователей дублирует картину, что свидетельствует о том, что основная аудитория - пользователи Apple\n",
    "* Органический траффик - основной источник для всех платформ Доп задания(3 7 12 18)\n",
    "***"
   ],
   "id": "9122ed42fd3e565d"
  },
  {
   "metadata": {},
   "cell_type": "markdown",
   "source": [
    "### Дополнительные задания\n",
    "#### Задание №3\n",
    "Добавить столбец - “Длительность сессии” (расчетный). Выполнить\n",
    "группировку: средняя и медианная длительность сессии по стране\n",
    "пользователя."
   ],
   "id": "8dee195217304862"
  },
  {
   "metadata": {
    "ExecuteTime": {
     "end_time": "2025-10-19T17:36:51.195587Z",
     "start_time": "2025-10-19T17:36:51.186767Z"
    }
   },
   "cell_type": "code",
   "source": [
    "df['session_duration_min'] = (df['session_end'] - df['session_start']).dt.total_seconds() / 60\n",
    "\n",
    "result = df.groupby('region')['session_duration_min'].agg(\n",
    "    Средняя_длительность='mean',\n",
    "    Медианная_длительность='median'\n",
    ").round(2)\n",
    "print(result)"
   ],
   "id": "a2c28e8205d9dd89",
   "outputs": [
    {
     "name": "stdout",
     "output_type": "stream",
     "text": [
      "               Средняя_длительность  Медианная_длительность\n",
      "region                                                     \n",
      "United States                 29.17                    21.0\n"
     ]
    },
    {
     "name": "stderr",
     "output_type": "stream",
     "text": [
      "C:\\Users\\miros\\AppData\\Local\\Temp\\ipykernel_12740\\68962011.py:3: FutureWarning: The default of observed=False is deprecated and will be changed to True in a future version of pandas. Pass observed=False to retain current behavior or observed=True to adopt the future default and silence this warning.\n",
      "  result = df.groupby('region')['session_duration_min'].agg(\n"
     ]
    }
   ],
   "execution_count": 93
  },
  {
   "metadata": {},
   "cell_type": "markdown",
   "source": [
    "---\n",
    "**Пояснение:** Группируем данные по региону и выводим их среднюю и медианную длительность в минутах. <br>\n",
    "**Вывод:** Так как страна всего одна (United States), то узнаем результаты только для неё, средняя длительность = 29.17 минут; медианная длительность = 21 минуте."
   ],
   "id": "39488b2e544e39c8"
  },
  {
   "metadata": {},
   "cell_type": "markdown",
   "source": [
    "#### Задание №7\n",
    "Добавить столбец - “Длительность сессииˮ (расчетный). Создать столбец “Категория длительностиˮ (с помощью категоризации). Выделить минимум категории (низкая, высокая, средняя), фильтрацию для уровня длительность выбрать самостоятельно, аргументировать выбор. Создать сводную таблицу: средняя и медианная длительность сессии по устройству и категории длительности"
   ],
   "id": "4b115822d2c2f632"
  },
  {
   "metadata": {
    "ExecuteTime": {
     "end_time": "2025-10-19T17:36:51.228760Z",
     "start_time": "2025-10-19T17:36:51.224238Z"
    }
   },
   "cell_type": "code",
   "source": "df['duration_minutes'] = (df['session_end'] - df['session_start']).dt.total_seconds() / 60",
   "id": "a11ad6ecf84167d4",
   "outputs": [],
   "execution_count": 94
  },
  {
   "metadata": {},
   "cell_type": "markdown",
   "source": [
    "Вычисляем длительность сессии в минутах и делаем категории.\n",
    "* Низкая - меньше 2-х минут, пользователь быстро ушел;\n",
    "* Средняя - 2-10 минут, типичное время просмотра товаров, фильтрации, добавление в коризну;\n",
    "* Высокая - >10 минут, глубокое взаимодействие: сравнение товаров, анализ описаний."
   ],
   "id": "a9f92a898bc7f9fa"
  },
  {
   "metadata": {
    "ExecuteTime": {
     "end_time": "2025-10-19T17:36:51.269496Z",
     "start_time": "2025-10-19T17:36:51.251185Z"
    }
   },
   "cell_type": "code",
   "source": [
    "def categorize_session(duration):\n",
    "    if duration <= 2:\n",
    "        return 'Низкая'\n",
    "    elif duration <= 10:\n",
    "        return 'Средняя'\n",
    "    else:\n",
    "        return 'Высокая'\n",
    "\n",
    "df['duration_category'] = df['duration_minutes'].apply(categorize_session)\n",
    "\n",
    "pivot_table = df.pivot_table(\n",
    "    index=['device', 'duration_category'],\n",
    "    values='duration_minutes',\n",
    "    aggfunc={'duration_minutes': ['mean', 'median']},\n",
    "    observed = True\n",
    ").round(2)\n",
    "\n",
    "pivot_table.columns = ['mean_duration', 'median_duration']\n",
    "pivot_table = pivot_table.sort_index()\n",
    "print(pivot_table)"
   ],
   "id": "21eb1c14b152e154",
   "outputs": [
    {
     "name": "stdout",
     "output_type": "stream",
     "text": [
      "                           mean_duration  median_duration\n",
      "device  duration_category                                \n",
      "Android Высокая                    38.90             32.0\n",
      "        Низкая                      1.20              1.0\n",
      "        Средняя                     6.38              6.0\n",
      "Mac     Высокая                    36.56             29.0\n",
      "        Низкая                      1.13              1.0\n",
      "        Средняя                     6.96              8.0\n",
      "PC      Высокая                    40.90             33.0\n",
      "        Низкая                      1.44              2.0\n",
      "        Средняя                     6.43              7.0\n",
      "iPhone  Высокая                    38.88             31.0\n",
      "        Низкая                      1.29              1.0\n",
      "        Средняя                     6.05              6.0\n"
     ]
    }
   ],
   "execution_count": 95
  },
  {
   "metadata": {},
   "cell_type": "markdown",
   "source": [
    "---\n",
    "**Пояснение:** <br>\n",
    "Берём данные о сессиях, вычисляем длительность каждой в минутах и относим её к одной из трёх поведенческих категорий — «Низкая» (≤2 мин), «Средняя» (2–10 мин) или «Высокая» (>10 мин). Затем строим сводную таблица, показывающая среднюю и медианную длительность сессий по комбинациям устройств и категорий, что позволяет быстро оценить вовлечённость пользователей на разных платформах. <br>\n",
    "**Вывод:** <br>\n",
    "У Iphone наибольшая средняя продолжительность сессий, при этом медиана значительно ниже среднего, что указывает на наличие длинных сессий у пользователей Iphone. У остальных устройств близкие значения и среднего и медианы; Разница среднего и медианы небольшая => распределение равномерное (маленькое влияние выбросов).\n",
    "***"
   ],
   "id": "ac28c1e58fcf57d"
  },
  {
   "metadata": {},
   "cell_type": "markdown",
   "source": [
    "#### Задание №12\n",
    "Добавить столбец - “Длительность сессии” (расчетный). Отфильтровать набор\n",
    "данных. Выбрать только те записи, средняя длительность на которых выше\n",
    "определенного числа (число выбрать самостоятельно). Для отфильтрованного\n",
    "набора данных выполнить группировку: тип устройства и средняя+медианная\n",
    "длительность."
   ],
   "id": "f672343b6ad768af"
  },
  {
   "metadata": {
    "ExecuteTime": {
     "end_time": "2025-10-19T17:36:51.307865Z",
     "start_time": "2025-10-19T17:36:51.287508Z"
    }
   },
   "cell_type": "code",
   "source": [
    "df['duration_minutes'] = (df['session_end'] - df['session_start']).dt.total_seconds() / 60\n",
    "\n",
    "df_filtered = df[df['duration_minutes'] > 15]\n",
    "\n",
    "\n",
    "result = df_filtered.groupby('device')['duration_minutes'].agg(\n",
    "    Средняя_длительность='mean',\n",
    "    Медианная_длительность='median'\n",
    ").round(2)\n",
    "\n",
    "result"
   ],
   "id": "af107d8687a6016a",
   "outputs": [
    {
     "name": "stderr",
     "output_type": "stream",
     "text": [
      "C:\\Users\\miros\\AppData\\Local\\Temp\\ipykernel_12740\\3787399787.py:6: FutureWarning: The default of observed=False is deprecated and will be changed to True in a future version of pandas. Pass observed=False to retain current behavior or observed=True to adopt the future default and silence this warning.\n",
      "  result = df_filtered.groupby('device')['duration_minutes'].agg(\n"
     ]
    },
    {
     "data": {
      "text/plain": [
       "         Средняя_длительность  Медианная_длительность\n",
       "device                                               \n",
       "Android                 44.32                    37.0\n",
       "Mac                     41.20                    34.0\n",
       "PC                      44.94                    36.0\n",
       "iPhone                  43.84                    36.0"
      ],
      "text/html": [
       "<div>\n",
       "<style scoped>\n",
       "    .dataframe tbody tr th:only-of-type {\n",
       "        vertical-align: middle;\n",
       "    }\n",
       "\n",
       "    .dataframe tbody tr th {\n",
       "        vertical-align: top;\n",
       "    }\n",
       "\n",
       "    .dataframe thead th {\n",
       "        text-align: right;\n",
       "    }\n",
       "</style>\n",
       "<table border=\"1\" class=\"dataframe\">\n",
       "  <thead>\n",
       "    <tr style=\"text-align: right;\">\n",
       "      <th></th>\n",
       "      <th>Средняя_длительность</th>\n",
       "      <th>Медианная_длительность</th>\n",
       "    </tr>\n",
       "    <tr>\n",
       "      <th>device</th>\n",
       "      <th></th>\n",
       "      <th></th>\n",
       "    </tr>\n",
       "  </thead>\n",
       "  <tbody>\n",
       "    <tr>\n",
       "      <th>Android</th>\n",
       "      <td>44.32</td>\n",
       "      <td>37.0</td>\n",
       "    </tr>\n",
       "    <tr>\n",
       "      <th>Mac</th>\n",
       "      <td>41.20</td>\n",
       "      <td>34.0</td>\n",
       "    </tr>\n",
       "    <tr>\n",
       "      <th>PC</th>\n",
       "      <td>44.94</td>\n",
       "      <td>36.0</td>\n",
       "    </tr>\n",
       "    <tr>\n",
       "      <th>iPhone</th>\n",
       "      <td>43.84</td>\n",
       "      <td>36.0</td>\n",
       "    </tr>\n",
       "  </tbody>\n",
       "</table>\n",
       "</div>"
      ]
     },
     "execution_count": 96,
     "metadata": {},
     "output_type": "execute_result"
    }
   ],
   "execution_count": 96
  },
  {
   "metadata": {},
   "cell_type": "markdown",
   "source": [
    "---\n",
    "**Пояснение**: для каждой строки рассчитывается длительность сессии в минутах, выбирается порог длительности (15 минут), отбираем только вовлеченных пользователей, затем данные группируются по столбцу device и рассчитывается средняя длительность сессии для устройства и медианная длительность. <br>\n",
    "**Вывод**: Самая большая средняя длительность сессии за PC, пользователи больше всего вовлечены именно на этом устройстве. Медиана заметно ниже среднего, это показывает, что длинные сессии присуствуют и они тянут среднее вверх, но большинство сессий в среднем диапазоне.\n",
    "***"
   ],
   "id": "46a50a95fc494132"
  },
  {
   "metadata": {},
   "cell_type": "markdown",
   "source": [
    "#### Задание 18\n",
    "Добавить столбец - “Длительность сессии” (расчетный). Отфильтровать набор\n",
    "данных. Выбрать только те записи, средняя длительность на которых лежит в\n",
    "определенном диапазоне (нижнюю и верхнюю границы выбрать\n",
    "самостоятельно) + топ 2 устройство по средней длительности сессии. Для\n",
    "отфильтрованного набора данных создать сводную таблицу: канал, устройство\n",
    "и медианная длительность сессии.\n"
   ],
   "id": "ab960d4b2630a580"
  },
  {
   "metadata": {
    "ExecuteTime": {
     "end_time": "2025-10-19T17:36:51.334375Z",
     "start_time": "2025-10-19T17:36:51.328575Z"
    }
   },
   "cell_type": "code",
   "source": "df_filtered = df[(df['session_duration_min'] >= 15) & (df['session_duration_min'] <= 60)]",
   "id": "7fdd85cd30036802",
   "outputs": [],
   "execution_count": 97
  },
  {
   "metadata": {},
   "cell_type": "markdown",
   "source": "Отфильтровали данные по длительности. Нижняя граница = 15, берем только вовлеченных пользователей, верхняя граница = 60, скорее всего при таком большом времени пользователь оставил вкладку открытой и не взаимодействует со страницей.",
   "id": "7e4986346bce5126"
  },
  {
   "metadata": {
    "ExecuteTime": {
     "end_time": "2025-10-19T17:36:51.374373Z",
     "start_time": "2025-10-19T17:36:51.365188Z"
    }
   },
   "cell_type": "code",
   "source": [
    "top_devices = (\n",
    "    df_filtered.groupby('device')['session_duration_min']\n",
    "    .mean()\n",
    "    .sort_values(ascending=False)\n",
    "    .head(2)\n",
    "    .index.tolist()\n",
    ")\n",
    "\n",
    "print(\"Топ-2 устройства по средней длительности сессии:\", top_devices)"
   ],
   "id": "8bd1dfb3d370d1a2",
   "outputs": [
    {
     "name": "stdout",
     "output_type": "stream",
     "text": [
      "Топ-2 устройства по средней длительности сессии: ['Android', 'iPhone']\n"
     ]
    },
    {
     "name": "stderr",
     "output_type": "stream",
     "text": [
      "C:\\Users\\miros\\AppData\\Local\\Temp\\ipykernel_12740\\2564763962.py:2: FutureWarning: The default of observed=False is deprecated and will be changed to True in a future version of pandas. Pass observed=False to retain current behavior or observed=True to adopt the future default and silence this warning.\n",
      "  df_filtered.groupby('device')['session_duration_min']\n"
     ]
    }
   ],
   "execution_count": 98
  },
  {
   "metadata": {},
   "cell_type": "markdown",
   "source": "Находим какие устройства являются топ-2 по длительности сессии - это Android и Iphone.",
   "id": "e27fc71ec57d8b9a"
  },
  {
   "metadata": {
    "ExecuteTime": {
     "end_time": "2025-10-19T17:51:15.344674Z",
     "start_time": "2025-10-19T17:51:15.317313Z"
    }
   },
   "cell_type": "code",
   "source": [
    "result = (\n",
    "    df_filtered\n",
    "    .groupby(['channel', 'device'])['session_duration_min']\n",
    "    .median()\n",
    "    .round(2)\n",
    "    .reset_index()\n",
    "    .rename(columns={'session_duration_min': 'Медианная_длительность'})\n",
    ")\n",
    "\n",
    "result"
   ],
   "id": "5207ba2d547302b6",
   "outputs": [
    {
     "name": "stderr",
     "output_type": "stream",
     "text": [
      "C:\\Users\\miros\\AppData\\Local\\Temp\\ipykernel_12740\\824012485.py:3: FutureWarning: The default of observed=False is deprecated and will be changed to True in a future version of pandas. Pass observed=False to retain current behavior or observed=True to adopt the future default and silence this warning.\n",
      "  .groupby(['channel', 'device'])['session_duration_min']\n"
     ]
    },
    {
     "data": {
      "text/plain": [
       "         channel   device  Медианная_длительность\n",
       "0       FaceBoom  Android                    36.0\n",
       "1       FaceBoom      Mac                    26.0\n",
       "2       FaceBoom       PC                    23.0\n",
       "3       FaceBoom   iPhone                    25.0\n",
       "4   MediaTornado  Android                    24.0\n",
       "5   MediaTornado      Mac                    37.5\n",
       "6   MediaTornado       PC                     NaN\n",
       "7   MediaTornado   iPhone                    35.5\n",
       "8         TipTop  Android                    27.0\n",
       "9         TipTop      Mac                    26.0\n",
       "10        TipTop       PC                    30.5\n",
       "11        TipTop   iPhone                    32.0\n",
       "12       organic  Android                    30.0\n",
       "13       organic      Mac                    29.5\n",
       "14       organic       PC                    32.0\n",
       "15       organic   iPhone                    30.0"
      ],
      "text/html": [
       "<div>\n",
       "<style scoped>\n",
       "    .dataframe tbody tr th:only-of-type {\n",
       "        vertical-align: middle;\n",
       "    }\n",
       "\n",
       "    .dataframe tbody tr th {\n",
       "        vertical-align: top;\n",
       "    }\n",
       "\n",
       "    .dataframe thead th {\n",
       "        text-align: right;\n",
       "    }\n",
       "</style>\n",
       "<table border=\"1\" class=\"dataframe\">\n",
       "  <thead>\n",
       "    <tr style=\"text-align: right;\">\n",
       "      <th></th>\n",
       "      <th>channel</th>\n",
       "      <th>device</th>\n",
       "      <th>Медианная_длительность</th>\n",
       "    </tr>\n",
       "  </thead>\n",
       "  <tbody>\n",
       "    <tr>\n",
       "      <th>0</th>\n",
       "      <td>FaceBoom</td>\n",
       "      <td>Android</td>\n",
       "      <td>36.0</td>\n",
       "    </tr>\n",
       "    <tr>\n",
       "      <th>1</th>\n",
       "      <td>FaceBoom</td>\n",
       "      <td>Mac</td>\n",
       "      <td>26.0</td>\n",
       "    </tr>\n",
       "    <tr>\n",
       "      <th>2</th>\n",
       "      <td>FaceBoom</td>\n",
       "      <td>PC</td>\n",
       "      <td>23.0</td>\n",
       "    </tr>\n",
       "    <tr>\n",
       "      <th>3</th>\n",
       "      <td>FaceBoom</td>\n",
       "      <td>iPhone</td>\n",
       "      <td>25.0</td>\n",
       "    </tr>\n",
       "    <tr>\n",
       "      <th>4</th>\n",
       "      <td>MediaTornado</td>\n",
       "      <td>Android</td>\n",
       "      <td>24.0</td>\n",
       "    </tr>\n",
       "    <tr>\n",
       "      <th>5</th>\n",
       "      <td>MediaTornado</td>\n",
       "      <td>Mac</td>\n",
       "      <td>37.5</td>\n",
       "    </tr>\n",
       "    <tr>\n",
       "      <th>6</th>\n",
       "      <td>MediaTornado</td>\n",
       "      <td>PC</td>\n",
       "      <td>NaN</td>\n",
       "    </tr>\n",
       "    <tr>\n",
       "      <th>7</th>\n",
       "      <td>MediaTornado</td>\n",
       "      <td>iPhone</td>\n",
       "      <td>35.5</td>\n",
       "    </tr>\n",
       "    <tr>\n",
       "      <th>8</th>\n",
       "      <td>TipTop</td>\n",
       "      <td>Android</td>\n",
       "      <td>27.0</td>\n",
       "    </tr>\n",
       "    <tr>\n",
       "      <th>9</th>\n",
       "      <td>TipTop</td>\n",
       "      <td>Mac</td>\n",
       "      <td>26.0</td>\n",
       "    </tr>\n",
       "    <tr>\n",
       "      <th>10</th>\n",
       "      <td>TipTop</td>\n",
       "      <td>PC</td>\n",
       "      <td>30.5</td>\n",
       "    </tr>\n",
       "    <tr>\n",
       "      <th>11</th>\n",
       "      <td>TipTop</td>\n",
       "      <td>iPhone</td>\n",
       "      <td>32.0</td>\n",
       "    </tr>\n",
       "    <tr>\n",
       "      <th>12</th>\n",
       "      <td>organic</td>\n",
       "      <td>Android</td>\n",
       "      <td>30.0</td>\n",
       "    </tr>\n",
       "    <tr>\n",
       "      <th>13</th>\n",
       "      <td>organic</td>\n",
       "      <td>Mac</td>\n",
       "      <td>29.5</td>\n",
       "    </tr>\n",
       "    <tr>\n",
       "      <th>14</th>\n",
       "      <td>organic</td>\n",
       "      <td>PC</td>\n",
       "      <td>32.0</td>\n",
       "    </tr>\n",
       "    <tr>\n",
       "      <th>15</th>\n",
       "      <td>organic</td>\n",
       "      <td>iPhone</td>\n",
       "      <td>30.0</td>\n",
       "    </tr>\n",
       "  </tbody>\n",
       "</table>\n",
       "</div>"
      ]
     },
     "execution_count": 101,
     "metadata": {},
     "output_type": "execute_result"
    }
   ],
   "execution_count": 101
  },
  {
   "metadata": {},
   "cell_type": "markdown",
   "source": "Создали сводную таблицу - канал, устройство и медианная длительность для отфильтрованного набора.",
   "id": "dc883739cd75557b"
  },
  {
   "metadata": {},
   "cell_type": "markdown",
   "source": [
    "---\n",
    "**Вывод:** Данная сводная таблица позволяет проанализировать какие рекламные каналы приносят активных пользователей и какие из них имеют наивысшую эффективность. Самый качественный трафик приходит из канала organic.\n",
    "***"
   ],
   "id": "ccd05e69f81e22bd"
  },
  {
   "metadata": {},
   "cell_type": "code",
   "outputs": [],
   "execution_count": null,
   "source": "",
   "id": "14a356df051e5f80"
  }
 ],
 "metadata": {
  "kernelspec": {
   "display_name": "Python 3",
   "language": "python",
   "name": "python3"
  },
  "language_info": {
   "codemirror_mode": {
    "name": "ipython",
    "version": 2
   },
   "file_extension": ".py",
   "mimetype": "text/x-python",
   "name": "python",
   "nbconvert_exporter": "python",
   "pygments_lexer": "ipython2",
   "version": "2.7.6"
  }
 },
 "nbformat": 4,
 "nbformat_minor": 5
}
